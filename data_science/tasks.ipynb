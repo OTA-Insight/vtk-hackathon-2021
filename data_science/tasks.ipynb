{
  "nbformat": 4,
  "nbformat_minor": 0,
  "metadata": {
    "kernelspec": {
      "display_name": "Python 3",
      "language": "python",
      "name": "python3"
    },
    "language_info": {
      "codemirror_mode": {
        "name": "ipython",
        "version": 3
      },
      "file_extension": ".py",
      "mimetype": "text/x-python",
      "name": "python",
      "nbconvert_exporter": "python",
      "pygments_lexer": "ipython3",
      "version": "3.9.4"
    },
    "colab": {
      "name": "vtk_hackathon_2021_students",
      "provenance": [],
      "collapsed_sections": []
    }
  },
  "cells": [
    {
      "cell_type": "markdown",
      "metadata": {
        "id": "gUUbR5phRpya"
      },
      "source": [
        "# VTK Hackathon 2021 - Students\n",
        "\n",
        "The goal of the Data Science task is to extract valuable insights from raw hotel rates data. The data sample is fetched from Cloud Storage for which the code is already provided below.\n",
        "\n",
        "The data sample consists of the rates of about 7000 hotels for stay dates (the date on which you check-in) ranging from November 9 till February 6 ( a period of 90 days) as scraped on November 8. All of the rates are for stays of a single night and are in EUR. \n",
        "\n"
      ]
    },
    {
      "cell_type": "markdown",
      "metadata": {
        "id": "eshqZZfURpyd"
      },
      "source": [
        "## Fetching data from Cloud Storage [Already implemented]\n"
      ]
    },
    {
      "cell_type": "code",
      "metadata": {
        "id": "TYPITxhVRpye"
      },
      "source": [
        "from google.cloud import storage\n",
        "from google.colab import auth\n",
        "import os\n",
        "\n",
        "PROJECT_ID = 'vtkhackathon-2021'\n",
        "BUCKET = 'students-public'\n",
        "RATES_FILE = 'rates.csv'\n",
        "\n",
        "if not os.path.exists(RATES_FILE):\n",
        "    auth.authenticate_user()\n",
        "    storage_client = storage.Client(project=PROJECT_ID)\n",
        "    bucket = storage_client.bucket(BUCKET)\n",
        "    blob = bucket.blob(RATES_FILE)\n",
        "    blob.download_to_filename(RATES_FILE) "
      ],
      "execution_count": null,
      "outputs": []
    },
    {
      "cell_type": "code",
      "metadata": {
        "id": "hi2gFJWeRpye"
      },
      "source": [
        "import pandas as pd\n",
        "raw_rates = pd.read_csv(RATES_FILE)"
      ],
      "execution_count": null,
      "outputs": []
    },
    {
      "cell_type": "markdown",
      "metadata": {
        "id": "AXgaEDjpRpyg"
      },
      "source": [
        "## Getting to know the data [Not graded]\n",
        "\n",
        "Some useful Pandas functions are `DataFrame.info()` , `DataFrame.describe()`, `Series.value_counts()`... See the [docs](https://pandas.pydata.org/docs/) for more information. Transform/clean the data when necessary.\n"
      ]
    },
    {
      "cell_type": "code",
      "metadata": {
        "id": "wQFcsKE1J4k4"
      },
      "source": [
        ""
      ],
      "execution_count": null,
      "outputs": []
    },
    {
      "cell_type": "code",
      "metadata": {
        "id": "95pbXNVYKCol"
      },
      "source": [
        ""
      ],
      "execution_count": null,
      "outputs": []
    },
    {
      "cell_type": "code",
      "metadata": {
        "id": "3VW-KDXWJ5Ef"
      },
      "source": [
        ""
      ],
      "execution_count": null,
      "outputs": []
    },
    {
      "cell_type": "markdown",
      "metadata": {
        "id": "OO3ivXWlRpyi"
      },
      "source": [
        "## Task 1: Exceptional deals\n",
        "As some hotel managers manually adjust prices, mistakes are bound to happen. The task is for you to robustly identify these outliers (so you could exploit them to get a cheap stay).\n",
        "\n",
        "Just taking the minimum over price values will of course not lead to these cases as €8 for a dormitory bed in Bulgaria might not be that exceptional, while a €25 suite in a 5 star hotel in Brussels probably is. The prices should thus be normalized to a `price index` indicating how exceptional the price is.\n",
        "\n",
        "**Grading: Provide us with the (our_hotel_id, stay_date) of the most significant outlier**\n",
        "\n",
        "Hint 1: For aggregations, see the Pandas docs on [DataFrame.groupby()](https://pandas.pydata.org/docs/reference/api/pandas.DataFrame.groupby.html) and [named aggregation](https://pandas.pydata.org/pandas-docs/stable/user_guide/groupby.html#named-aggregation).\n",
        "\n",
        "Hint 2: When you have found an outlier, plot the price value of this offer over all stay dates to see if it is really a valuable outlier.\n"
      ]
    },
    {
      "cell_type": "code",
      "metadata": {
        "id": "aXZwrQLlJ9Mz"
      },
      "source": [
        ""
      ],
      "execution_count": null,
      "outputs": []
    },
    {
      "cell_type": "code",
      "metadata": {
        "id": "ZNt7Tb1QKB1o"
      },
      "source": [
        ""
      ],
      "execution_count": null,
      "outputs": []
    },
    {
      "cell_type": "code",
      "metadata": {
        "id": "NBhDXVbbJ9ut"
      },
      "source": [
        ""
      ],
      "execution_count": null,
      "outputs": []
    },
    {
      "cell_type": "markdown",
      "metadata": {
        "id": "PHXRzAZyRpyt"
      },
      "source": [
        "## Task 2: Patterns per destination \n",
        "\n",
        "From the price indexes you calculated in the previous task you can get information on the pricing patterns per destination. For this task we ask you to calculate the business leisure score (a score indicating whether the pricing behaviour is mostly business or leisure driven) per destination according to the following steps:\n",
        "\n",
        "1. go from the price index per (hotel, offer, stay date) to a price index per (hotel, stay date).\n",
        "2. go from the price index per (hotel, stay date) to a price index per (destination, stay date)\n",
        "3. go from the price index per (destination id, stay date) to a price index per (destination, day of week)\n",
        "4. create a business/leisure score by using the price indexes on business days (Sunday till Thursday) and the price indexes on leisure days (=Friday and Saturday)\n",
        "\n",
        "For aggregations, you can use medians.\n",
        "\n",
        "**Grading: Plot the price index per (destination, day of week) for the destination with the lowest and the destination with the highest business/leisure index**"
      ]
    },
    {
      "cell_type": "code",
      "metadata": {
        "id": "-jzUtY0IKAdB"
      },
      "source": [
        ""
      ],
      "execution_count": null,
      "outputs": []
    },
    {
      "cell_type": "code",
      "metadata": {
        "id": "4cDWx5roKBBb"
      },
      "source": [
        ""
      ],
      "execution_count": null,
      "outputs": []
    },
    {
      "cell_type": "code",
      "metadata": {
        "id": "6h5W2bb6KBNI"
      },
      "source": [
        ""
      ],
      "execution_count": null,
      "outputs": []
    }
  ]
}